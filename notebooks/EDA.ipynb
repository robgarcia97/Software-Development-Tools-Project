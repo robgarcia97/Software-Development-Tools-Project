{
 "cells": [
  {
   "cell_type": "code",
   "execution_count": null,
   "metadata": {},
   "outputs": [],
   "source": [
    "import pandas as pd\n",
    "df = pd.read_csv('vehicles_us.csv')\n",
    "\n",
    "import plotly.express as px\n",
    "\n",
    "fig_hist = px.histogram(df, x='price')\n",
    "fig_hist.show()\n",
    "\n",
    "fig_scatter = px.scatter(df, x='odometer', y='price')\n",
    "fig_scatter.show()\n"
   ]
  }
 ],
 "metadata": {
  "kernelspec": {
   "display_name": "myenv",
   "language": "python",
   "name": "python3"
  },
  "language_info": {
   "codemirror_mode": {
    "name": "ipython",
    "version": 3
   },
   "file_extension": ".py",
   "mimetype": "text/x-python",
   "name": "python",
   "nbconvert_exporter": "python",
   "pygments_lexer": "ipython3",
   "version": "3.12.1"
  }
 },
 "nbformat": 4,
 "nbformat_minor": 2
}
